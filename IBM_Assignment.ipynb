{
 "cells": [
  {
   "cell_type": "markdown",
   "metadata": {},
   "source": [
    "<center>\n",
    "    <img src=\"https://cf-courses-data.s3.us.cloud-object-storage.appdomain.cloud/IBMDeveloperSkillsNetwork-DS0105EN-SkillsNetwork/labs/Module2/images/SN_web_lightmode.png\" width=\"300\" alt=\"cognitiveclass.ai logo\">\n",
    "</center>\n"
   ]
  },
  {
   "cell_type": "markdown",
   "metadata": {},
   "source": [
    "#### Add your code below following the instructions given in the course\n"
   ]
  },
  {
   "cell_type": "markdown",
   "metadata": {},
   "source": [
    "# **This is the Title of notebook**"
   ]
  },
  {
   "cell_type": "markdown",
   "metadata": {},
   "source": [
    "**Introduction**"
   ]
  },
  {
   "cell_type": "markdown",
   "metadata": {},
   "source": [
    "The data science languages are : \n",
    "1. Python\n",
    "2. R\n",
    "3. Julia\n",
    "4. Matlab\n",
    "5. Scala\n",
    "6. Apache spark\n",
    "7. SQL"
   ]
  },
  {
   "cell_type": "markdown",
   "metadata": {},
   "source": [
    "The data science libraries are :\n",
    "1. Numpy\n",
    "2. Pandas\n",
    "3. Matplotlib\n",
    "4. Seaborn\n",
    "5. Scikit-learn\n",
    "6. Tensorflow\n",
    "7. PyTorch\n",
    "8. Keras"
   ]
  },
  {
   "cell_type": "markdown",
   "metadata": {},
   "source": [
    "| Data Science tools|\n",
    "|---|\n",
    "| MySQL|\n",
    "| Apache Superset |\n",
    "| PredictionIO |\n",
    "| GitHub |\n",
    "| Apache atlas |\n",
    "| JupyterLab |\n",
    "| RStudio |\n",
    "| Apache Spark|\n",
    "| Spyder |\n",
    "\n",
    "\n",
    "\n",
    "\n"
   ]
  },
  {
   "cell_type": "markdown",
   "metadata": {},
   "source": [
    "Arithmetic Expressions,\n",
    "Consider a = 10 and b = 5\n",
    "1. Addition\n",
    "    Ex - a + b\n",
    "    Ans = 15\n",
    "2. Subtraction\n",
    "    Ex = a - b\n",
    "    Ans = 5\n",
    "3. Multiplication\n",
    "    Ex = a * b\n",
    "    Ans = 50\n",
    "4. Division\n",
    "    Ex = a/b\n",
    "    Ans = 2\n",
    "5. Remainder\n",
    "    Ex = a%b\n",
    "    Ans = 0\n"
   ]
  },
  {
   "cell_type": "code",
   "execution_count": 2,
   "metadata": {
    "tags": []
   },
   "outputs": [
    {
     "name": "stdout",
     "output_type": "stream",
     "text": [
      "add 30\n",
      "product 200\n"
     ]
    }
   ],
   "source": [
    "a = 10\n",
    "b = 20\n",
    "add = a+b\n",
    "product = a*b\n",
    "print(\"add\", str(add))\n",
    "print(\"product\", str(product))\n"
   ]
  },
  {
   "cell_type": "code",
   "execution_count": 11,
   "metadata": {
    "tags": []
   },
   "outputs": [
    {
     "name": "stdout",
     "output_type": "stream",
     "text": [
      "45 minutes are equal to 0.75 hours\n",
      "90 minutes are equal to 1.5 hours\n"
     ]
    }
   ],
   "source": [
    "# Consider 2 examples\n",
    "# 1. Above 60 minutess\n",
    "# 2. Below 60 minutes\n",
    "\n",
    "n1 = 45\n",
    "h1 = n1/60\n",
    "print(str(n1),\"minutes are equal to\", str(h1),\"hours\")\n",
    "n2 = 90\n",
    "h2 = n2/60\n",
    "print(str(n2),\"minutes are equal to\", str(h2),\"hours\")\n"
   ]
  },
  {
   "cell_type": "markdown",
   "metadata": {},
   "source": [
    "# **Objectives**\n",
    "\n",
    "In this notebook, you will:\n",
    "* Know about Data Science languages,libraries and tools\n",
    "* Perform arithmetic addition and multiplication\n",
    "* Create a program, to change minutes into hours\n"
   ]
  },
  {
   "cell_type": "markdown",
   "metadata": {
    "tags": []
   },
   "source": [
    "# **Author**\n",
    "[Khandyana Manindra](https://www.linkedin.com/in/manindrakhandyana/)"
   ]
  }
 ],
 "metadata": {
  "kernelspec": {
   "display_name": "Python",
   "language": "python",
   "name": "conda-env-python-py"
  },
  "language_info": {
   "codemirror_mode": {
    "name": "ipython",
    "version": 3
   },
   "file_extension": ".py",
   "mimetype": "text/x-python",
   "name": "python",
   "nbconvert_exporter": "python",
   "pygments_lexer": "ipython3",
   "version": "3.7.12"
  }
 },
 "nbformat": 4,
 "nbformat_minor": 4
}
